{
 "cells": [
  {
   "cell_type": "code",
   "execution_count": 170,
   "id": "747ed436",
   "metadata": {},
   "outputs": [],
   "source": [
    "import numpy as np\n",
    "import pandas as pd\n",
    "import lightgbm\n",
    "\n",
    "import warnings\n",
    "warnings.filterwarnings(\"ignore\")"
   ]
  },
  {
   "cell_type": "code",
   "execution_count": 171,
   "id": "5012ec63",
   "metadata": {},
   "outputs": [],
   "source": [
    "def apk(actual, predicted, k=10):\n",
    "    if len(predicted) > k:\n",
    "        predicted = predicted[:k]\n",
    "\n",
    "    score = 0.0\n",
    "    num_hits = 0.0\n",
    "\n",
    "    for i, p in enumerate(predicted):\n",
    "        if p in actual and p not in predicted[:i]:\n",
    "            num_hits += 1.0\n",
    "            score += num_hits / (i+1.0)\n",
    "\n",
    "    if not actual:\n",
    "        return 0.0\n",
    "\n",
    "    return score / min(len(actual), k)\n",
    "\n",
    "def mapk(actual, predicted, k=10):\n",
    "    return np.mean([apk(a, p, k) for a, p in zip(actual, predicted)])"
   ]
  },
  {
   "cell_type": "code",
   "execution_count": 172,
   "id": "0bba4476",
   "metadata": {},
   "outputs": [],
   "source": [
    "df_train = pd.read_csv('df_train.csv', sep=';')\n",
    "df_test = pd.read_csv('df_test.csv', sep=';')\n",
    "\n",
    "df_train['Data'] = df_train.Data.apply(lambda s: list(map(int, s.split(','))))\n",
    "df_train['Target'] = df_train.Target.apply(lambda s: list(map(int, s.split(','))))\n",
    "df_test['Data'] = df_test.Data.apply(lambda s: list(map(int, s.split(','))))"
   ]
  },
  {
   "cell_type": "code",
   "execution_count": 173,
   "id": "b68ba1d6",
   "metadata": {},
   "outputs": [],
   "source": [
    "top_codes = df_train['Data'].explode().value_counts().index\n",
    "top10_codes = top_codes[:10]"
   ]
  },
  {
   "cell_type": "code",
   "execution_count": 174,
   "id": "7967744d",
   "metadata": {
    "scrolled": true
   },
   "outputs": [],
   "source": [
    "# для тренировки и валидации будут использоваться данные из тестового датасета\n",
    "\n",
    "def split_data(data, new_targets):\n",
    "    targets = data[-10:]\n",
    "    new_targets.append(targets)\n",
    "    data = data[:-10]\n",
    "    return data\n",
    "    \n",
    "\n",
    "def make_training_df_from_testing_df():\n",
    "    new_targets = []\n",
    "    new_df = pd.DataFrame()\n",
    "    new_df['Data'] = df_test['Data'].apply(split_data, args=(new_targets,))\n",
    "    new_df['Target'] = new_targets\n",
    "    \n",
    "    return new_df\n",
    "\n",
    "df_train_tail = make_training_df_from_testing_df()\n",
    "df_train_full = pd.concat([df_train.drop('Id', axis=1), df_train_tail], ignore_index=True)\n",
    "df_train_full = df_train_full.sample(frac=1).reset_index()\n",
    "df_train_full.drop('index', axis=1, inplace=True)"
   ]
  },
  {
   "cell_type": "code",
   "execution_count": 175,
   "id": "bd956dc3",
   "metadata": {},
   "outputs": [],
   "source": [
    "split_index = int(df_train_full.shape[0] * 0.8)\n",
    "\n",
    "train_df = df_train_full[:split_index]\n",
    "validation_df = df_train_full[split_index:]\n",
    "validation_df.reset_index(inplace=True)"
   ]
  },
  {
   "cell_type": "code",
   "execution_count": 176,
   "id": "3348b6ee",
   "metadata": {},
   "outputs": [],
   "source": [
    "# функции для расчёта фич\n",
    "\n",
    "def calculate_num_last_k(mss, data_list, k):\n",
    "    num = 0\n",
    "    l = data_list[-k:]\n",
    "    for el in l:\n",
    "        if el == mss:\n",
    "            num += 1\n",
    "    return num\n",
    "\n",
    "def calculate_first_ind(mss, data_list):\n",
    "    for i in range(len(data_list) - 1, -1, -1):\n",
    "        if data_list[i] == mss:\n",
    "            return i\n",
    "\n",
    "def calculate_ind_in_top(mss):\n",
    "    for i in range(len(top_codes)):\n",
    "        if top_codes[i] == mss:\n",
    "            return i + 1\n",
    "    \n",
    "def calculate_num_in_k_after_last(mss, data_list, k=10):\n",
    "    num = 0\n",
    "    last = data_list[-1]\n",
    "    for i in range(len(data_list)):\n",
    "        if data_list[i] == last:\n",
    "            left, right = i + 1, min(i + k, len(data_list) - 1)\n",
    "            for j in range(left, right + 1):\n",
    "                if data_list[j] == mss:\n",
    "                    num += 1\n",
    "    return num"
   ]
  },
  {
   "cell_type": "code",
   "execution_count": 177,
   "id": "24613250",
   "metadata": {},
   "outputs": [],
   "source": [
    "def get_feachered_df(initial_df):\n",
    "    if 'Target' in initial_df.columns:\n",
    "        no_relevance = False\n",
    "    else:\n",
    "        no_relevance = True\n",
    "    \n",
    "    df = pd.DataFrame()\n",
    "\n",
    "    for i in range(initial_df.shape[0]):\n",
    "        if no_relevance:\n",
    "            mss_list = np.unique(np.concatenate([\n",
    "                np.unique(initial_df['Data'][i]),\n",
    "                top10_codes\n",
    "            ]))\n",
    "        else:\n",
    "            mss_list = np.unique(np.concatenate([\n",
    "                np.unique(initial_df['Data'][i]),\n",
    "                top10_codes,\n",
    "                np.unique(initial_df['Target'][i])\n",
    "            ]))\n",
    "            \n",
    "        df_temp = pd.DataFrame({\n",
    "            'person_id': [i]*len(mss_list),\n",
    "            'mss_id': mss_list,\n",
    "            'mss_count': [initial_df['Data'][i].count(mss) for mss in mss_list],\n",
    "            'num_last_40': [calculate_num_last_k(mss, initial_df['Data'][i], 40) for mss in mss_list],\n",
    "            'first_ind': [calculate_first_ind(mss, initial_df['Data'][i]) for mss in mss_list],\n",
    "            'i_in_top': [calculate_ind_in_top(mss) for mss in mss_list],\n",
    "            'data_len': [len(initial_df['Data'][i])]*len(mss_list),\n",
    "            'num_in_10_after_last': [calculate_num_in_k_after_last(mss, initial_df['Data'][i]) for mss in mss_list],\n",
    "        })\n",
    "        \n",
    "        if not no_relevance:\n",
    "            df_temp['relevance'] = [int(mss in initial_df['Target'][i]) for mss in mss_list]\n",
    "            \n",
    "        df = pd.concat([df, df_temp], ignore_index=True)\n",
    "    \n",
    "    return df"
   ]
  },
  {
   "cell_type": "code",
   "execution_count": 178,
   "id": "489b4a78",
   "metadata": {},
   "outputs": [],
   "source": [
    "feachered_train_df = get_feachered_df(train_df)\n",
    "feachered_validation_df = get_feachered_df(validation_df)"
   ]
  },
  {
   "cell_type": "code",
   "execution_count": 179,
   "id": "4158fee4",
   "metadata": {},
   "outputs": [],
   "source": [
    "qids_train = feachered_train_df.groupby(\"person_id\")[\"person_id\"].count().to_numpy()\n",
    "X_train = feachered_train_df.drop(['person_id', \"mss_id\", \"relevance\"], axis=1)\n",
    "y_train = feachered_train_df[\"relevance\"]\n",
    "\n",
    "qids_validation = feachered_validation_df.groupby(\"person_id\")[\"person_id\"].count().to_numpy()\n",
    "X_validation = feachered_validation_df.drop(['person_id', \"mss_id\", \"relevance\"], axis=1)\n",
    "y_validation = feachered_validation_df[\"relevance\"]"
   ]
  },
  {
   "cell_type": "code",
   "execution_count": 180,
   "id": "712791ab",
   "metadata": {},
   "outputs": [
    {
     "name": "stdout",
     "output_type": "stream",
     "text": [
      "[LightGBM] [Info] Auto-choosing row-wise multi-threading, the overhead of testing was 0.001193 seconds.\n",
      "You can set `force_row_wise=true` to remove the overhead.\n",
      "And if memory is not enough, you can set `force_col_wise=true`.\n",
      "[LightGBM] [Info] Total Bins 1246\n",
      "[LightGBM] [Info] Number of data points in the train set: 265611, number of used features: 6\n"
     ]
    },
    {
     "data": {
      "text/plain": [
       "LGBMRanker(n_estimators=10, num_leaves=13, objective='lambdarank')"
      ]
     },
     "execution_count": 180,
     "metadata": {},
     "output_type": "execute_result"
    }
   ],
   "source": [
    "model = lightgbm.LGBMRanker(\n",
    "    objective='lambdarank',\n",
    "    n_estimators=10,\n",
    "    num_leaves=13\n",
    ")\n",
    "\n",
    "model.fit(\n",
    "    X=X_train,\n",
    "    y=y_train,\n",
    "    group=qids_train,\n",
    "    #eval_set=[(X_validation, y_validation)],\n",
    "    #eval_group=[qids_validation],\n",
    ")"
   ]
  },
  {
   "cell_type": "code",
   "execution_count": 181,
   "id": "4133ced9",
   "metadata": {},
   "outputs": [
    {
     "data": {
      "text/plain": [
       "<AxesSubplot:title={'center':'Feature importance'}, xlabel='Feature importance', ylabel='Features'>"
      ]
     },
     "execution_count": 181,
     "metadata": {},
     "output_type": "execute_result"
    },
    {
     "data": {
      "image/png": "[encoded data removed]",
      "text/plain": [
       "<Figure size 640x480 with 1 Axes>"
      ]
     },
     "metadata": {},
     "output_type": "display_data"
    }
   ],
   "source": [
    "lightgbm.plot_importance(model)"
   ]
  },
  {
   "cell_type": "code",
   "execution_count": 182,
   "id": "97185bc8",
   "metadata": {},
   "outputs": [
    {
     "name": "stdout",
     "output_type": "stream",
     "text": [
      "map@10 score: 0.35937974526460664\n",
      "Max map@10 score: 0.3801436976117147\n"
     ]
    }
   ],
   "source": [
    "# тест на валидационном сете\n",
    "if 'preds' in feachered_validation_df.columns:\n",
    "    feachered_validation_df.drop(['preds'], axis=1, inplace=True)\n",
    "\n",
    "feachered_validation_df['preds'] = model.predict(\n",
    "    feachered_validation_df.drop(['person_id', 'mss_id', 'relevance'], axis=1).to_numpy())\n",
    "\n",
    "ranked_preds = []\n",
    "for person in np.unique(feachered_validation_df['person_id'].to_numpy()):\n",
    "    temp_df = feachered_validation_df[feachered_validation_df['person_id'] == person]\n",
    "    \n",
    "    mss_top_list = temp_df.sort_values(by='preds')[::-1][:10]['mss_id'].to_numpy()    \n",
    "    ranked_preds.append(mss_top_list)\n",
    "    \n",
    "validation_df['Predicted'] = ranked_preds\n",
    "\n",
    "print('map@10 score:', mapk(validation_df['Target'], validation_df['Predicted']))\n",
    "print('Max map@10 score:', mapk(validation_df['Target'], validation_df['Target']))"
   ]
  },
  {
   "cell_type": "code",
   "execution_count": 183,
   "id": "240e0cb5",
   "metadata": {},
   "outputs": [],
   "source": [
    "# предсказания для тестового датасета\n",
    "feachered_df_test = get_feachered_df(df_test)\n",
    "\n",
    "if 'preds' in feachered_df_test.columns:\n",
    "    feachered_df_test.drop(['preds'], axis=1, inplace=True)\n",
    "\n",
    "feachered_df_test['preds'] = model.predict(feachered_df_test.drop(['person_id', \"mss_id\"], axis=1).to_numpy())"
   ]
  },
  {
   "cell_type": "markdown",
   "id": "276cf1e5",
   "metadata": {},
   "source": [
    "Далее приведены две ячейки, в которых происходит формирование последовательностей следующих покупок пользователей для тестового датасета. В первой ячейке для каждого пользователя сначала отбираются коды, для которых релевантность превышает 0.9, затем к ним добавляются топ 10 кодов по релевантности. До дедлайна я не понимал, почему этот способ выдаёт скор больше, чем если просто разместить топ 10 кодов без повторов, так как это никак не состыковывалось с метрикой map@10. Но после дедлайна я выяснил, что лучше было загружать сабмит без квадратных скобок по бокам, и убрав эти скобки и дубликаты, скор вырос до 0.29 (код во второй ячейке)."
   ]
  },
  {
   "cell_type": "code",
   "execution_count": 184,
   "id": "a180fefd",
   "metadata": {},
   "outputs": [],
   "source": [
    "# сабмит, набирающий 0.25 на лидерборде\n",
    "def calculate_ranked_preds(feachered_df_test):\n",
    "    ranked_preds = []\n",
    "    for person in np.unique(feachered_df_test['person_id'].to_numpy()):\n",
    "        temp_df = feachered_df_test[feachered_df_test['person_id'] == person]\n",
    "        mss_top_list = np.concatenate([\n",
    "            temp_df[temp_df['preds'] > 0.9].sort_values(by='preds')[::-1]['mss_id'].to_numpy(),\n",
    "            temp_df.sort_values(by='preds')[::-1][:10]['mss_id'].to_numpy()\n",
    "        ])\n",
    "\n",
    "        ranked_preds.append(mss_top_list.astype('int'))\n",
    "    return ranked_preds\n",
    "\n",
    "ranked_preds = calculate_ranked_preds(feachered_df_test)\n",
    "df_test['Predicted'] = ranked_preds\n",
    "\n",
    "submission = df_test[['Id', 'Predicted']]\n",
    "submission['Predicted'] = submission['Predicted'].astype(str).str.replace(',', '')\n",
    "submission.to_csv('submission_0.25_score.csv', index=False)"
   ]
  },
  {
   "cell_type": "code",
   "execution_count": 185,
   "id": "7839bbe0",
   "metadata": {},
   "outputs": [],
   "source": [
    "# сабмит, набирающий 0.29 на лидерборде\n",
    "def calculate_ranked_preds(feachered_df_test):\n",
    "    ranked_preds = []\n",
    "    for person in np.unique(feachered_df_test['person_id'].to_numpy()):\n",
    "        temp_df = feachered_df_test[feachered_df_test['person_id'] == person]\n",
    "        mss_top_list = temp_df.sort_values(by='preds')[::-1][:10]['mss_id'].to_numpy()\n",
    "\n",
    "        ranked_preds.append(mss_top_list.astype('int'))\n",
    "    return ranked_preds\n",
    "\n",
    "ranked_preds = calculate_ranked_preds(feachered_df_test)\n",
    "df_test['Predicted'] = ranked_preds\n",
    "\n",
    "def no_braces(preds):\n",
    "    return preds[1:-2]\n",
    "\n",
    "submission = df_test[['Id', 'Predicted']]\n",
    "submission['Predicted'] = submission['Predicted'].astype(str).str.replace(',', '')\n",
    "submission['Predicted'] = submission['Predicted'].apply(no_braces)\n",
    "submission.to_csv('submission_0.29_score.csv', index=False)"
   ]
  }
 ],
 "metadata": {
  "kernelspec": {
   "display_name": "Python 3 (ipykernel)",
   "language": "python",
   "name": "python3"
  },
  "language_info": {
   "codemirror_mode": {
    "name": "ipython",
    "version": 3
   },
   "file_extension": ".py",
   "mimetype": "text/x-python",
   "name": "python",
   "nbconvert_exporter": "python",
   "pygments_lexer": "ipython3",
   "version": "3.9.13"
  }
 },
 "nbformat": 4,
 "nbformat_minor": 5
}
